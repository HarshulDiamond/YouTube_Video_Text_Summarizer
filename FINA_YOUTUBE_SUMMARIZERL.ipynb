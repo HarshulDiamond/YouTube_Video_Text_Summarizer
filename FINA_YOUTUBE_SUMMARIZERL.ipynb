{
 "cells": [
  {
   "cell_type": "markdown",
   "id": "3f19b4a6",
   "metadata": {},
   "source": [
    "# Hello Welcome to Youtube Video Transcript Summarizer"
   ]
  },
  {
   "cell_type": "markdown",
   "id": "660d66da",
   "metadata": {},
   "source": [
    "## This Notebook uses python based Machine Learning libraries to perform two main tasks\n",
    "<B>1. Extract Transcript text from the given YouTube Video\n",
    "    \n",
    "<B>2. Summarizing the extracted Text (Transcript) \n"
   ]
  },
  {
   "cell_type": "markdown",
   "id": "00e4f25a",
   "metadata": {},
   "source": [
    "# Project Context\n",
    "\n",
    "<H> Enormous number of videos are being recorded and uploaded on Internet everyday. Watching videos with longer duration really become a difficult task and our efforts become futile if we couldn,t find relevant information out of it.\n",
    "\n",
    "<H> Summarizing the transcript gives us the summary of the video and allow us instead of going through complete video look up for the important extract of the video that helps us to save time\n",
    "<h> This project gives us the experience of NLP techinique of abstractive text summarization\n",
    "\n"
   ]
  },
  {
   "cell_type": "markdown",
   "id": "d09407d5",
   "metadata": {},
   "source": [
    "# You Tube Transcript Api\n",
    "\n",
    "This is a python API which allows you to get the transcript/subtitles for a given YouTube video."
   ]
  },
  {
   "cell_type": "code",
   "execution_count": 1,
   "id": "19e88601",
   "metadata": {},
   "outputs": [],
   "source": [
    "!pip install -q transformers"
   ]
  },
  {
   "cell_type": "markdown",
   "id": "a759066a",
   "metadata": {},
   "source": [
    "## This is a python API which allows you to get the transcript/subtitles for a given YouTube video"
   ]
  },
  {
   "cell_type": "code",
   "execution_count": 2,
   "id": "345c5273",
   "metadata": {},
   "outputs": [],
   "source": [
    "!pip install -q youtube_transcript_api"
   ]
  },
  {
   "cell_type": "markdown",
   "id": "cdcc094f",
   "metadata": {},
   "source": [
    "# 1. Importing pipeline from transformers\n",
    "\n",
    "# 2. Importing YoutubeTranscript Api"
   ]
  },
  {
   "cell_type": "code",
   "execution_count": 3,
   "id": "40c90e0c",
   "metadata": {},
   "outputs": [],
   "source": [
    "from transformers import pipeline\n",
    "\n",
    "from youtube_transcript_api import YouTubeTranscriptApi as yt\n"
   ]
  },
  {
   "cell_type": "code",
   "execution_count": 4,
   "id": "1cbd41c2",
   "metadata": {},
   "outputs": [],
   "source": [
    "import warnings\n",
    "warnings.filterwarnings('ignore')"
   ]
  },
  {
   "attachments": {
    "Screenshot%20%28144%29.png": {
     "image/png": "[encoded data removed]"
    }
   },
   "cell_type": "markdown",
   "id": "875ec461",
   "metadata": {},
   "source": [
    "# 3. Importing tkinter\n",
    "\n",
    "### The tkinter package is the standard Python interface to the GUI toolkit\n",
    "\n",
    "\n",
    "##### Pop up box to take input of youtube video to be summarized\n",
    "![Screenshot%20%28144%29.png](attachment:Screenshot%20%28144%29.png)"
   ]
  },
  {
   "cell_type": "code",
   "execution_count": 11,
   "id": "2967031a",
   "metadata": {},
   "outputs": [],
   "source": [
    "from tkinter import *\n",
    "def printtext():\n",
    "    global e\n",
    "    printtext.string = e.get() \n",
    "     \n",
    "\n",
    "root = Tk()\n",
    "\n",
    "\n",
    "root.config(bg='#474680')\n",
    "root.title('Enter YouTube video link')\n",
    "\n",
    "e = Entry(root,width =50)\n",
    "e.pack()\n",
    "e.focus_set()\n",
    "\n",
    "b = Button(root,text='okay',command=printtext)\n",
    "b.pack(side='bottom')\n",
    "root.mainloop()"
   ]
  },
  {
   "cell_type": "markdown",
   "id": "cb5fda92",
   "metadata": {},
   "source": [
    "# 4. Store the Input value "
   ]
  },
  {
   "cell_type": "code",
   "execution_count": 12,
   "id": "6287eec0",
   "metadata": {},
   "outputs": [],
   "source": [
    "video = printtext.string"
   ]
  },
  {
   "cell_type": "markdown",
   "id": "70ae4766",
   "metadata": {},
   "source": [
    "# 5. Extracting the video id from the link\n",
    "\n",
    "### Example:-\n",
    "    Link = www.youtube.com/watch?v=YKRdeY3SACg\n",
    "      video id = YKRdeY3SACg"
   ]
  },
  {
   "cell_type": "code",
   "execution_count": 13,
   "id": "b177a8f3",
   "metadata": {},
   "outputs": [],
   "source": [
    "vid_id = video.split(\"=\")[1]"
   ]
  },
  {
   "cell_type": "code",
   "execution_count": 14,
   "id": "cc8147a1",
   "metadata": {},
   "outputs": [
    {
     "data": {
      "text/plain": [
       "'P8wCk8FU7_o'"
      ]
     },
     "execution_count": 14,
     "metadata": {},
     "output_type": "execute_result"
    }
   ],
   "source": [
    "vid_id"
   ]
  },
  {
   "cell_type": "markdown",
   "id": "fe81d5da",
   "metadata": {},
   "source": [
    "# 6. Displaying the youtube video \n",
    "\n",
    "\n",
    " Using Ipython.display \n",
    " we can display the video we want to summarize \n",
    " \n",
    " "
   ]
  },
  {
   "cell_type": "code",
   "execution_count": 15,
   "id": "bf8c7062",
   "metadata": {},
   "outputs": [
    {
     "data": {
      "image/jpeg": "[encoded data removed]",
      "text/html": [
       "\n",
       "        <iframe\n",
       "            width=\"400\"\n",
       "            height=\"300\"\n",
       "            src=\"https://www.youtube.com/embed/P8wCk8FU7_o\"\n",
       "            frameborder=\"0\"\n",
       "            allowfullscreen\n",
       "            \n",
       "        ></iframe>\n",
       "        "
      ],
      "text/plain": [
       "<IPython.lib.display.YouTubeVideo at 0x1e2d7a420a0>"
      ]
     },
     "execution_count": 15,
     "metadata": {},
     "output_type": "execute_result"
    }
   ],
   "source": [
    "from IPython.display import YouTubeVideo\n",
    "YouTubeVideo(vid_id)"
   ]
  },
  {
   "cell_type": "markdown",
   "id": "b268eccf",
   "metadata": {},
   "source": [
    "# 7. Getting the video transcript \n",
    "\n",
    "   ### We will get the transcript from you_tube_transcript_api in form of json object\n",
    "\n",
    "     The transcript will not be extracted in form of text file from youtube_transcript_api it will be the json object\n",
    "     example:-\n",
    "\n",
    "     {\n",
    "\n",
    "       'duration': 5 \n",
    "       'start': 0.20 \n",
    "       'text': 'hy ....................................................................'\n",
    "      }"
   ]
  },
  {
   "cell_type": "code",
   "execution_count": 16,
   "id": "55174f98",
   "metadata": {},
   "outputs": [],
   "source": [
    "\n",
    "data=yt.get_transcript(vid_id)"
   ]
  },
  {
   "cell_type": "code",
   "execution_count": 17,
   "id": "cc55b927",
   "metadata": {},
   "outputs": [],
   "source": [
    "data[0:5];"
   ]
  },
  {
   "cell_type": "markdown",
   "id": "c5362d8d",
   "metadata": {},
   "source": [
    "# 8. Extracting  from the Json Object\n",
    "  \n",
    "  ### The idea simple is to iterate through the json object and every time encounters with text add the text to the result string\n",
    "  \n",
    " \n",
    "  \n",
    "#### print the size of text transcript"
   ]
  },
  {
   "cell_type": "code",
   "execution_count": 18,
   "id": "55c3201d",
   "metadata": {},
   "outputs": [
    {
     "name": "stdout",
     "output_type": "stream",
     "text": [
      "this animation is brought to you by thesmart image basea subscription website where you candownload thousands of medicalimages and videos to use in lecturescoursespresentations professional training andmore for more informationclick on the link in the descriptionimmunization is the process of becomingimmune toor protected against a disease usuallyby receiving a vaccinevaccines stimulate your immune system toprotect you from certain diseasesso you won't get sick or get aninfectionnormally the organs and cells of yourimmune system defend your body fromharmful germssuch as bacteria and virusesimmune cells are constantly circulatingthrough your bodythey monitor certain substances on thesurfaces of cellscalled antigens healthy cells havedifferent antigens than diseased bodycellsor foreign invaders in the bodyimmune cells usually ignore the antigenson healthy cellsbut when immune cells come acrossantigens ongerms they destroy the germafterward the immune cell displays thegerms antigen on its surfacethis activates other types of immunecells to help get rid of the infectionfor example some activated immune cellsrecognize the antigen on infected bodycellsand then destroy themother activated immune cells calledplasma cellsmake molecules called antibodiesthese antibodies travel through yourbody and lock ononly to germs that have its specificantigenthis marks the germ for destructionthen other immune cells attack the germsthat have these antibodiesonce the infection is gone some of theimmune cells that were exposed to theantigenbecome memory immune cellsin the future if the same type of germinfects your body againthe memory immune cells will be ready todestroy it so you don't get sickthis is called natural immunityin many cases it will last your wholelifetimethe problem with getting naturalimmunity from having the disease itselfis that some naturally acquiredinfections can cause seriouscomplicationsor may even be deadly for examplepolio can result in permanent paralysisordeath measles can cause swelling of thebrainresulting in permanent brain damage ordeath especially in children under agefiveand whooping cough also known aspertussiscan cause complications such aspneumonia slowed or stopped breathingand death especially in babies under oneyear of agewhile symptoms may not be severe in allpeopleit's not possible to know who will beaffected enough to becomevery ill or even dievaccines can protect you from gettingthese diseases and their harmfulsymptomsvaccines often contain a small amount ofweakened or killed germsbut some contain genetic material suchasrna or dna that provide instructions foryour body's own cells to make the germsantigenusually you receive a vaccine as a shotinside your body the germ particles inthe vaccineteach your immune cells to attack thesegermsthis process doesn't make you sick butit does cause your body to make memorycells and antibodies for those germsas a result if that germ infects yourbody later in lifeyour immune system is ready to fight theinfection so that you don't get sickthe main types of vaccines include liveattenuated vaccines inactivated vaccinestoxoid vaccines subunit and conjugatevaccinesmrna vaccines and viral vector vaccineslive attenuated vaccines use a live butweakened germs they're most like anatural infection and provide a strongdisease immunityexamples are the measles mumps rubellachickenpoxand flu nasal spray vaccinesinactivated vaccines use inactive orkilled germs you may need several dosesorbooster shots over time examples are thehepatitis aflu polio and rabies vaccinestoxoid vaccines protect against harmfulsubstances made by germs called toxinsthey use weakened versions of the toxinscalled toxoidsyou may need booster shots to maintainprotection against diseasesexamples are the diphtheria and tetanusparts of the dtap vaccinesubunit and conjugate vaccines use onlya specific part of a germthey provide strong immunity to that keypart of the germthese vaccines may also require boostershotsexamples are the pertussis part of thedtap vaccineand the hepatitis b vaccineinstead of using germs or toxins mrnavaccines contain a special type of rnacalledmessenger rna or mrnamrna instructs your cells to make thegerms antigenwhich triggers an immune response thesevaccines do not carry live virusand do not change your dna examples arecertain covid19 vaccinesviral vector vaccines may use either dnaormrna to provide cells with instructionsto make a germs antigenthe genetic material is wrapped in adifferent safevirus to take the instructions into yourcellsthese vaccines do not change your dnaexamples are certain covid19 vaccinesit's important to know that vaccines notonly protect youbut your community as well many diseasesthat vaccines preventare spread from person to person whenonly a few people in your community arevaccinatedthe risk of a disease outbreak is highbut if most people are vaccinated it'smuch less likely for a disease to spreadthis is called community or herdimmunityherd immunity is especially important toprotect people who can't be vaccinatedthis includes people with weakenedimmune systemsserious allergies or other healthconditionsvaccines protect you your family andyour community from diseases that can bedangerousor even deadlyto find out more about vaccines talk toyour health care provider\n"
     ]
    }
   ],
   "source": [
    "transcript=''\n",
    "for value in data:\n",
    "    for key,val in value.items():\n",
    "         if key == 'text':\n",
    "              transcript+=val\n",
    "\n",
    "I= transcript.splitlines()\n",
    "final_tra=\" \".join(I)\n",
    "print(final_tra)"
   ]
  },
  {
   "cell_type": "markdown",
   "id": "b22d9124",
   "metadata": {},
   "source": [
    "#### Transcript extraction finished \n",
    "   We get the transcript in our result string<hr>"
   ]
  },
  {
   "cell_type": "code",
   "execution_count": 19,
   "id": "a4ff35a2",
   "metadata": {},
   "outputs": [
    {
     "data": {
      "text/plain": [
       "5321"
      ]
     },
     "execution_count": 19,
     "metadata": {},
     "output_type": "execute_result"
    }
   ],
   "source": [
    "len(final_tra)\n"
   ]
  },
  {
   "cell_type": "markdown",
   "id": "b5b90a2f",
   "metadata": {},
   "source": [
    "# 9. Creating a pipeline for summarization\n",
    "\n",
    "\n",
    "    By default it uses Bart model with Pytorch and GPT model"
   ]
  },
  {
   "cell_type": "code",
   "execution_count": 20,
   "id": "f63ce75e",
   "metadata": {},
   "outputs": [
    {
     "name": "stderr",
     "output_type": "stream",
     "text": [
      "No model was supplied, defaulted to sshleifer/distilbart-cnn-12-6 (https://huggingface.co/sshleifer/distilbart-cnn-12-6)\n"
     ]
    }
   ],
   "source": [
    "summarizer = pipeline('summarization');"
   ]
  },
  {
   "cell_type": "markdown",
   "id": "cab40b2a",
   "metadata": {},
   "source": [
    "# 10. Using Bart Summarizer\n",
    "\n",
    " ### Bart doesnot support long chunks of text to summarize\n",
    "     So we take a minimum value and check iterate a particular amount of text at particular time\n",
    "     \n",
    "     For Example :- If total word count of result are  12000\n",
    "     then we take x as 12000/1000\n",
    "     so we will take 1000 words at a time and summarize the complete text 12 times\n",
    "     \n",
    "     \n",
    "     \n",
    "     Take Out and take field summary text in it\n",
    "     and finally twelve times you append the summary to summarized_text[] which is a list\n",
    "     "
   ]
  },
  {
   "cell_type": "code",
   "execution_count": 29,
   "id": "58a86442",
   "metadata": {},
   "outputs": [],
   "source": [
    "x = int(len(final_tra)/1500)\n",
    "summarized_text = []\n",
    "for i in range(0, x + 1):\n",
    "  start = 0\n",
    "  start = i * 1500\n",
    "  end = (i + 1) * 1500 \n",
    "  out = summarizer(final_tra[start:end])\n",
    "  out = out[0]\n",
    "  out = out['summary_text']\n",
    "  summarized_text.append(out)\n"
   ]
  },
  {
   "cell_type": "markdown",
   "id": "d4bc47f5",
   "metadata": {},
   "source": [
    "# 11. Checking the length of the summarized Text"
   ]
  },
  {
   "cell_type": "code",
   "execution_count": 30,
   "id": "ad414a9e",
   "metadata": {},
   "outputs": [
    {
     "data": {
      "text/plain": [
       "1420"
      ]
     },
     "execution_count": 30,
     "metadata": {},
     "output_type": "execute_result"
    }
   ],
   "source": [
    "len(str(summarized_text))"
   ]
  },
  {
   "cell_type": "markdown",
   "id": "d34343e1",
   "metadata": {},
   "source": [
    "# 12. Printing the Summarized Text"
   ]
  },
  {
   "cell_type": "code",
   "execution_count": 31,
   "id": "f564134a",
   "metadata": {},
   "outputs": [],
   "source": [
    "str(summarized_text);"
   ]
  },
  {
   "cell_type": "code",
   "execution_count": 32,
   "id": "163c96f9",
   "metadata": {},
   "outputs": [
    {
     "name": "stdout",
     "output_type": "stream",
     "text": [
      " Immunization is the process of becoming immune to or protected against a disease usually by receiving a vaccine . Vaccines stimulate your immune system toprotect you from certain diseasesso you won't get sick or get aninfection . When immune cells come acrossantigens ongerms they destroy the germafterward the immune cell displays thegerms antigen on its surfacethis activates other immunecells to help get rid of the infection . Some naturally acquiredinfections can cause serious complications or may even be deadly for examplepolio can result in permanent paralysis or permanent brain damage . Vaccines often contain a small amount ofweakened or killed germs but some contain genetic material such asrna or dna that provide instructions for your body's own cells to make the germsantigen . The main types of vaccines include liveattenuated vaccines inactivated vaccines inactivate vaccines subunit and conjugate vaccines . Vaccines contain a special type of rnacalledmessenger rna or mrnamrna instructs your cells to make thegerms antigen which triggers an immune response . Vaccines protect you your family and your community from diseases that can bedangerous or even deadly . Vaccines do not change your dna. ferent safevirus to take the instructions into yourcellsthese vaccines don't change your DNA . Vaccine is important to know that vaccines not only protect you but your community as well .\n"
     ]
    }
   ],
   "source": [
    "\n",
    "file1 = open(\"file.txt\",\"r+\")\n",
    "file1.truncate(0)\n",
    "\n",
    "  \n",
    "file1.writelines(summarized_text)\n",
    "  \n",
    "# Closing file\n",
    "file1.close()\n",
    "  \n",
    "# Checking if the data is\n",
    "# written to file or not\n",
    "file1 = open('file.txt', 'r')\n",
    "print(file1.read())\n",
    "file1.close()"
   ]
  },
  {
   "cell_type": "code",
   "execution_count": null,
   "id": "2e60ef18",
   "metadata": {},
   "outputs": [],
   "source": []
  },
  {
   "cell_type": "code",
   "execution_count": null,
   "id": "e741e173",
   "metadata": {},
   "outputs": [],
   "source": []
  }
 ],
 "metadata": {
  "kernelspec": {
   "display_name": "Python 3 (ipykernel)",
   "language": "python",
   "name": "python3"
  },
  "language_info": {
   "codemirror_mode": {
    "name": "ipython",
    "version": 3
   },
   "file_extension": ".py",
   "mimetype": "text/x-python",
   "name": "python",
   "nbconvert_exporter": "python",
   "pygments_lexer": "ipython3",
   "version": "3.9.5"
  }
 },
 "nbformat": 4,
 "nbformat_minor": 5
}
