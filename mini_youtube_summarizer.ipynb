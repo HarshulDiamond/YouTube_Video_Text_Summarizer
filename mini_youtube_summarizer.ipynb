{
 "cells": [
  {
   "cell_type": "markdown",
   "id": "3f19b4a6",
   "metadata": {},
   "source": [
    "# Hello Welcome to Youtube Video Transcript Summarizer"
   ]
  },
  {
   "cell_type": "markdown",
   "id": "660d66da",
   "metadata": {},
   "source": [
    "## This Notebook uses python based Machine Learning libraries to perform two main tasks\n",
    "<B>1. Extract Transcript text from the given YouTube Video\n",
    "    \n",
    "<B>2. Summarizing the extracted Text (Transcript) \n"
   ]
  },
  {
   "cell_type": "markdown",
   "id": "00e4f25a",
   "metadata": {},
   "source": [
    "# Project Context\n",
    "\n",
    "<H> Enormous number of videos are being recorded and uploaded on Internet everyday. Watching videos with longer duration really become a difficult task and our efforts become futile if we couldn,t find relevant information out of it.\n",
    "\n",
    "<H> Summarizing the transcript gives us the summary of the video and allow us instead of going through complete video look up for the important extract of the video that helps us to save time\n",
    "<h> This project gives us the experience of NLP techinique of abstractive text summarization\n",
    "\n"
   ]
  },
  {
   "cell_type": "markdown",
   "id": "d09407d5",
   "metadata": {},
   "source": [
    "# You Tube Transcript Api\n",
    "\n",
    "This is a python API which allows you to get the transcript/subtitles for a given YouTube video."
   ]
  },
  {
   "cell_type": "markdown",
   "id": "ba60b98d",
   "metadata": {},
   "source": [
    "# Hugging Face Transformer\n",
    "\n",
    "Hugging face Transformers provides thousands of pretrained models to perform tasks on different modalities such as text, vision, and audio.\n",
    "\n",
    "## There are broadly two different approaches that are used for text summarization:\n",
    "\n",
    "### 1.Extractive Summarization\n",
    "### 2.Abstractive Summarization\n",
    "<H1>  We will be using Abstractive summarization \n",
    "    <img src=\"https://cdn.analyticsvidhya.com/wp-content/uploads/2019/05/13.jpg\">\n",
    "    <H2> 1. Extractive summarizer\n",
    "      <img src=\"https://cdn.analyticsvidhya.com/wp-content/uploads/2019/05/extractive1.jpg\">\n",
    "    <H2> 2. Abstractive Summarizer\n",
    "        <img src=\"https://cdn.analyticsvidhya.com/wp-content/uploads/2019/05/abstractive1.jpg\">"
   ]
  },
  {
   "cell_type": "code",
   "execution_count": 1,
   "id": "19e88601",
   "metadata": {},
   "outputs": [],
   "source": [
    "!pip install -q transformers"
   ]
  },
  {
   "cell_type": "markdown",
   "id": "a759066a",
   "metadata": {},
   "source": [
    "## This is a python API which allows you to get the transcript/subtitles for a given YouTube video"
   ]
  },
  {
   "cell_type": "code",
   "execution_count": 16,
   "id": "345c5273",
   "metadata": {},
   "outputs": [],
   "source": [
    "!pip install -q youtube_transcript_api"
   ]
  },
  {
   "cell_type": "markdown",
   "id": "cdcc094f",
   "metadata": {},
   "source": [
    "# 1. Importing pipeline from transformers\n",
    "\n",
    "# 2. Importing YoutubeTranscript Api"
   ]
  },
  {
   "cell_type": "code",
   "execution_count": 17,
   "id": "40c90e0c",
   "metadata": {},
   "outputs": [],
   "source": [
    "from transformers import pipeline\n",
    "\n",
    "from youtube_transcript_api import YouTubeTranscriptApi\n"
   ]
  },
  {
   "cell_type": "code",
   "execution_count": 40,
   "id": "1cbd41c2",
   "metadata": {},
   "outputs": [],
   "source": [
    "import warnings\n",
    "warnings.filterwarnings('ignore')"
   ]
  },
  {
   "attachments": {
    "Screenshot%20%28144%29.png": {
     "image/png": "[encoded data removed]"
    }
   },
   "cell_type": "markdown",
   "id": "875ec461",
   "metadata": {},
   "source": [
    "# 3. Importing tkinter\n",
    "\n",
    "### The tkinter package is the standard Python interface to the GUI toolkit\n",
    "\n",
    "\n",
    "##### Pop up box to take input of youtube video to be summarized\n",
    "![Screenshot%20%28144%29.png](attachment:Screenshot%20%28144%29.png)"
   ]
  },
  {
   "cell_type": "code",
   "execution_count": 8,
   "id": "2967031a",
   "metadata": {},
   "outputs": [],
   "source": [
    "from tkinter import *\n",
    "def printtext():\n",
    "    global e\n",
    "    printtext.string = e.get() \n",
    "     \n",
    "\n",
    "root = Tk()\n",
    "\n",
    "\n",
    "root.config(bg='#474680')\n",
    "root.title('Enter YouTube video link')\n",
    "\n",
    "e = Entry(root,width =50)\n",
    "e.pack()\n",
    "e.focus_set()\n",
    "\n",
    "b = Button(root,text='okay',command=printtext)\n",
    "b.pack(side='bottom')\n",
    "root.mainloop()"
   ]
  },
  {
   "cell_type": "markdown",
   "id": "cb5fda92",
   "metadata": {},
   "source": [
    "# 4. Store the Input value "
   ]
  },
  {
   "cell_type": "code",
   "execution_count": 9,
   "id": "6287eec0",
   "metadata": {},
   "outputs": [],
   "source": [
    "video = printtext.string"
   ]
  },
  {
   "cell_type": "markdown",
   "id": "70ae4766",
   "metadata": {},
   "source": [
    "# 5. Extracting the video id from the link\n",
    "\n",
    "### Example:-\n",
    "    Link = www.youtube.com/watch?v=YKRdeY3SACg\n",
    "      video id = YKRdeY3SACg"
   ]
  },
  {
   "cell_type": "code",
   "execution_count": 10,
   "id": "b177a8f3",
   "metadata": {},
   "outputs": [],
   "source": [
    "id = video.split(\"=\")[1]"
   ]
  },
  {
   "cell_type": "code",
   "execution_count": 13,
   "id": "cc8147a1",
   "metadata": {},
   "outputs": [],
   "source": [
    "id;"
   ]
  },
  {
   "cell_type": "markdown",
   "id": "fe81d5da",
   "metadata": {},
   "source": [
    "# 6. Displaying the youtube video \n",
    "\n",
    "\n",
    " Using Ipython.display \n",
    " we can display the video we want to summarize \n",
    " \n",
    " "
   ]
  },
  {
   "cell_type": "code",
   "execution_count": 19,
   "id": "bf8c7062",
   "metadata": {},
   "outputs": [],
   "source": [
    "from IPython.display import YouTubeVideo\n",
    "YouTubeVideo(id)"
   ]
  },
  {
   "cell_type": "markdown",
   "id": "b268eccf",
   "metadata": {},
   "source": [
    "# 7. Getting the video transcript \n",
    "\n",
    "   ### We will get the transcript from you_tube_transcript_api in form of json object\n",
    "\n",
    "     The transcript will not be extracted in form of text file from youtube_transcript_api it will be the json object\n",
    "     example:-\n",
    "\n",
    "     {\n",
    "\n",
    "       'duration': 5 \n",
    "       'start': 0.20 \n",
    "       'text': 'hy ....................................................................'\n",
    "      }"
   ]
  },
  {
   "cell_type": "code",
   "execution_count": 18,
   "id": "55174f98",
   "metadata": {},
   "outputs": [],
   "source": [
    "YouTubeTranscriptApi.get_transcript(id)\n",
    "transcript = YouTubeTranscriptApi.get_transcript(id)"
   ]
  },
  {
   "cell_type": "code",
   "execution_count": 46,
   "id": "cc55b927",
   "metadata": {},
   "outputs": [],
   "source": [
    "transcript[0:5];"
   ]
  },
  {
   "attachments": {
    "Screenshot%20%28146%29.png": {
     "image/png": "[encoded data removed]"
    }
   },
   "cell_type": "markdown",
   "id": "c5362d8d",
   "metadata": {},
   "source": [
    "# 8. Extracting  from the Json Object\n",
    "  \n",
    "  ### The idea simple is to iterate through the json object and every time encounters with text add the text to the result string\n",
    "  \n",
    "  ![Screenshot%20%28146%29.png](attachment:Screenshot%20%28146%29.png)\n",
    "  \n",
    "#### print the size of text transcript"
   ]
  },
  {
   "cell_type": "code",
   "execution_count": 47,
   "id": "765db5c1",
   "metadata": {},
   "outputs": [],
   "source": [
    "\n",
    "result = \"\"\n",
    "for i in transcript:\n",
    "    result += ' ' + i['text']\n",
    "\n",
    "print(len(result))\n"
   ]
  },
  {
   "cell_type": "markdown",
   "id": "b22d9124",
   "metadata": {},
   "source": [
    "#### Transcript extraction finished \n",
    "   We get the transcript in our result string<hr>"
   ]
  },
  {
   "cell_type": "markdown",
   "id": "b5b90a2f",
   "metadata": {},
   "source": [
    "# 9. Creating a pipeline for summarization\\\\\n",
    "\n",
    "\n",
    "    By default it uses Bart model with Pytorch model"
   ]
  },
  {
   "cell_type": "code",
   "execution_count": null,
   "id": "f63ce75e",
   "metadata": {},
   "outputs": [],
   "source": [
    "summarizer = pipeline('summarization');"
   ]
  },
  {
   "cell_type": "markdown",
   "id": "cab40b2a",
   "metadata": {},
   "source": [
    "# 10. Using Bart Summarizer\n",
    "\n",
    " ### Bart doesnot support long chunks of text to summarize\n",
    "     So we take a minimum value and check iterate a particular amount of text at particular time\n",
    "     \n",
    "     For Example :- If total word count of result are  12000\n",
    "     then we take x as 12000/1000\n",
    "     so we will take 1000 words at a time and summarize the complete text 12 times\n",
    "     \n",
    "     \n",
    "     \n",
    "     Take Out and take field summary text in it\n",
    "     and finally twelve times you append the summary to summarized_text[] which is a list\n",
    "     "
   ]
  },
  {
   "cell_type": "code",
   "execution_count": null,
   "id": "58a86442",
   "metadata": {},
   "outputs": [],
   "source": [
    "x = int(len(result)/1000)\n",
    "summarized_text = []\n",
    "for i in range(0, x + 1):\n",
    "  start = 0\n",
    "  start = i * 1000\n",
    "  end = (i + 1) * 1000 \n",
    "  out = summarizer(result[start:end])\n",
    "  out = out[0]\n",
    "  out = out['summary_text']\n",
    "  summarized_text.append(out)\n"
   ]
  },
  {
   "cell_type": "markdown",
   "id": "d4bc47f5",
   "metadata": {},
   "source": [
    "# 11. Checking the length of the summarized Text"
   ]
  },
  {
   "cell_type": "code",
   "execution_count": 50,
   "id": "ad414a9e",
   "metadata": {},
   "outputs": [],
   "source": [
    "len(str(summarized_text));"
   ]
  },
  {
   "cell_type": "markdown",
   "id": "d34343e1",
   "metadata": {},
   "source": [
    "# 12. Printing the Summarized Text"
   ]
  },
  {
   "cell_type": "code",
   "execution_count": null,
   "id": "f564134a",
   "metadata": {},
   "outputs": [],
   "source": [
    "str(summarized_text)"
   ]
  }
 ],
 "metadata": {
  "kernelspec": {
   "display_name": "Python 3 (ipykernel)",
   "language": "python",
   "name": "python3"
  },
  "language_info": {
   "codemirror_mode": {
    "name": "ipython",
    "version": 3
   },
   "file_extension": ".py",
   "mimetype": "text/x-python",
   "name": "python",
   "nbconvert_exporter": "python",
   "pygments_lexer": "ipython3",
   "version": "3.9.5"
  }
 },
 "nbformat": 4,
 "nbformat_minor": 5
}
