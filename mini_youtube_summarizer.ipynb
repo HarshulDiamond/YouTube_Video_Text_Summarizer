{
 "cells": [
  {
   "cell_type": "code",
   "execution_count": 16,
   "id": "19e88601",
   "metadata": {},
   "outputs": [],
   "source": [
    "!pip install -q transformers"
   ]
  },
  {
   "cell_type": "code",
   "execution_count": 17,
   "id": "345c5273",
   "metadata": {},
   "outputs": [],
   "source": [
    "!pip install -q youtube_transcript_api"
   ]
  },
  {
   "cell_type": "code",
   "execution_count": 18,
   "id": "40c90e0c",
   "metadata": {},
   "outputs": [],
   "source": [
    "from transformers import pipeline\n",
    "from youtube_transcript_api import YouTubeTranscriptApi\n"
   ]
  },
  {
   "cell_type": "code",
   "execution_count": 19,
   "id": "1cbd41c2",
   "metadata": {},
   "outputs": [],
   "source": [
    "import warnings\n",
    "warnings.filterwarnings('ignore')"
   ]
  },
  {
   "cell_type": "code",
   "execution_count": 1,
   "id": "2967031a",
   "metadata": {},
   "outputs": [],
   "source": [
    "from tkinter import *\n",
    "def printtext():\n",
    "    global e\n",
    "    printtext.string = e.get() \n",
    "     \n",
    "\n",
    "from tkinter import *\n",
    "root = Tk()\n",
    "\n",
    "\n",
    "root.config(bg='#474680')\n",
    "root.title('Enter YouTube video link')\n",
    "\n",
    "e = Entry(root,width =50)\n",
    "e.pack()\n",
    "e.focus_set()\n",
    "\n",
    "b = Button(root,text='okay',command=printtext)\n",
    "b.pack(side='bottom')\n",
    "root.mainloop()"
   ]
  },
  {
   "cell_type": "code",
   "execution_count": 21,
   "id": "6287eec0",
   "metadata": {},
   "outputs": [],
   "source": [
    "youtube_video = printtext.string"
   ]
  },
  {
   "cell_type": "code",
   "execution_count": 22,
   "id": "b177a8f3",
   "metadata": {},
   "outputs": [],
   "source": [
    "video_id = youtube_video.split(\"=\")[1]"
   ]
  },
  {
   "cell_type": "code",
   "execution_count": 23,
   "id": "cc8147a1",
   "metadata": {},
   "outputs": [],
   "source": [
    "video_id;"
   ]
  },
  {
   "cell_type": "code",
   "execution_count": 24,
   "id": "55174f98",
   "metadata": {},
   "outputs": [],
   "source": [
    "YouTubeTranscriptApi.get_transcript(video_id)\n",
    "transcript = YouTubeTranscriptApi.get_transcript(video_id)"
   ]
  },
  {
   "cell_type": "code",
   "execution_count": 25,
   "id": "cc55b927",
   "metadata": {},
   "outputs": [],
   "source": [
    "transcript[0:5];"
   ]
  },
  {
   "cell_type": "code",
   "execution_count": 26,
   "id": "765db5c1",
   "metadata": {},
   "outputs": [],
   "source": [
    "\n",
    "result = \"\"\n",
    "for i in transcript:\n",
    "    result += ' ' + i['text']\n"
   ]
  },
  {
   "cell_type": "code",
   "execution_count": 27,
   "id": "d393e8d0",
   "metadata": {},
   "outputs": [
    {
     "name": "stderr",
     "output_type": "stream",
     "text": [
      "No model was supplied, defaulted to sshleifer/distilbart-cnn-12-6 (https://huggingface.co/sshleifer/distilbart-cnn-12-6)\n"
     ]
    }
   ],
   "source": [
    "summarizer = pipeline('summarization');"
   ]
  },
  {
   "cell_type": "code",
   "execution_count": 31,
   "id": "a9cf5f2f",
   "metadata": {},
   "outputs": [],
   "source": [
    "num_iters = int(len(result)/1000)\n",
    "summarized_text = []\n",
    "for i in range(0, num_iters + 1):\n",
    "  start = 0\n",
    "  start = i * 1000\n",
    "  end = (i + 1) * 1000 \n",
    "  out = summarizer(result[start:end])\n",
    "  out = out[0]\n",
    "  out = out['summary_text']\n",
    "  summarized_text.append(out)\n",
    "\n",
    "#print(summarized_text)"
   ]
  },
  {
   "cell_type": "code",
   "execution_count": 29,
   "id": "ad414a9e",
   "metadata": {},
   "outputs": [],
   "source": [
    "len(str(summarized_text));"
   ]
  },
  {
   "cell_type": "code",
   "execution_count": 30,
   "id": "bdf377e9",
   "metadata": {},
   "outputs": [
    {
     "data": {
      "text/plain": [
       "\"[' There are a lot of concerns about blood clots associated with certain vaccines which are being used in india this has been seen in many parks across the world but it is not just limited to that particular vaccine there are multiple vaccines which have been associated with this particular complication .']\""
      ]
     },
     "execution_count": 30,
     "metadata": {},
     "output_type": "execute_result"
    }
   ],
   "source": [
    "str(summarized_text)"
   ]
  },
  {
   "cell_type": "code",
   "execution_count": null,
   "id": "b2d85c88",
   "metadata": {},
   "outputs": [],
   "source": []
  },
  {
   "cell_type": "code",
   "execution_count": null,
   "id": "f564134a",
   "metadata": {},
   "outputs": [],
   "source": []
  },
  {
   "cell_type": "code",
   "execution_count": null,
   "id": "50f81548",
   "metadata": {},
   "outputs": [],
   "source": []
  }
 ],
 "metadata": {
  "kernelspec": {
   "display_name": "Python 3 (ipykernel)",
   "language": "python",
   "name": "python3"
  },
  "language_info": {
   "codemirror_mode": {
    "name": "ipython",
    "version": 3
   },
   "file_extension": ".py",
   "mimetype": "text/x-python",
   "name": "python",
   "nbconvert_exporter": "python",
   "pygments_lexer": "ipython3",
   "version": "3.9.5"
  }
 },
 "nbformat": 4,
 "nbformat_minor": 5
}
