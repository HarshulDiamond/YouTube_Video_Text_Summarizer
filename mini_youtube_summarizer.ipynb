{
 "cells": [
  {
   "cell_type": "code",
   "execution_count": 37,
   "id": "19e88601",
   "metadata": {},
   "outputs": [],
   "source": [
    "!pip install -q transformers"
   ]
  },
  {
   "cell_type": "code",
   "execution_count": 38,
   "id": "345c5273",
   "metadata": {},
   "outputs": [],
   "source": [
    "!pip install -q youtube_transcript_api"
   ]
  },
  {
   "cell_type": "code",
   "execution_count": 39,
   "id": "40c90e0c",
   "metadata": {},
   "outputs": [],
   "source": [
    "from transformers import pipeline\n",
    "from youtube_transcript_api import YouTubeTranscriptApi\n"
   ]
  },
  {
   "cell_type": "code",
   "execution_count": 40,
   "id": "1cbd41c2",
   "metadata": {},
   "outputs": [],
   "source": [
    "import warnings\n",
    "warnings.filterwarnings('ignore')"
   ]
  },
  {
   "cell_type": "code",
   "execution_count": 41,
   "id": "2967031a",
   "metadata": {},
   "outputs": [],
   "source": [
    "from tkinter import *\n",
    "def printtext():\n",
    "    global e\n",
    "    printtext.string = e.get() \n",
    "     \n",
    "\n",
    "from tkinter import *\n",
    "root = Tk()\n",
    "\n",
    "\n",
    "root.config(bg='#474680')\n",
    "root.title('Enter YouTube video link')\n",
    "\n",
    "e = Entry(root,width =50)\n",
    "e.pack()\n",
    "e.focus_set()\n",
    "\n",
    "b = Button(root,text='okay',command=printtext)\n",
    "b.pack(side='bottom')\n",
    "root.mainloop()"
   ]
  },
  {
   "cell_type": "code",
   "execution_count": 42,
   "id": "6287eec0",
   "metadata": {},
   "outputs": [],
   "source": [
    "video = printtext.string"
   ]
  },
  {
   "cell_type": "code",
   "execution_count": 43,
   "id": "b177a8f3",
   "metadata": {},
   "outputs": [],
   "source": [
    "id = video.split(\"=\")[1]"
   ]
  },
  {
   "cell_type": "code",
   "execution_count": 44,
   "id": "cc8147a1",
   "metadata": {},
   "outputs": [],
   "source": [
    "id;"
   ]
  },
  {
   "cell_type": "code",
   "execution_count": 45,
   "id": "55174f98",
   "metadata": {},
   "outputs": [],
   "source": [
    "YouTubeTranscriptApi.get_transcript(id)\n",
    "transcript = YouTubeTranscriptApi.get_transcript(id)"
   ]
  },
  {
   "cell_type": "code",
   "execution_count": 46,
   "id": "cc55b927",
   "metadata": {},
   "outputs": [],
   "source": [
    "transcript[0:5];"
   ]
  },
  {
   "cell_type": "code",
   "execution_count": 47,
   "id": "765db5c1",
   "metadata": {},
   "outputs": [],
   "source": [
    "\n",
    "result = \"\"\n",
    "for i in transcript:\n",
    "    result += ' ' + i['text']\n"
   ]
  },
  {
   "cell_type": "code",
   "execution_count": null,
   "id": "f63ce75e",
   "metadata": {},
   "outputs": [],
   "source": [
    "summarizer = pipeline('summarization');"
   ]
  },
  {
   "cell_type": "code",
   "execution_count": null,
   "id": "58a86442",
   "metadata": {},
   "outputs": [],
   "source": [
    "x = int(len(result)/1000)\n",
    "summarized_text = []\n",
    "for i in range(0, x + 1):\n",
    "  start = 0\n",
    "  start = i * 1000\n",
    "  end = (i + 1) * 1000 \n",
    "  out = summarizer(result[start:end])\n",
    "  out = out[0]\n",
    "  out = out['summary_text']\n",
    "  summarized_text.append(out)\n"
   ]
  },
  {
   "cell_type": "code",
   "execution_count": 50,
   "id": "ad414a9e",
   "metadata": {},
   "outputs": [],
   "source": [
    "len(str(summarized_text));"
   ]
  },
  {
   "cell_type": "code",
   "execution_count": null,
   "id": "f564134a",
   "metadata": {},
   "outputs": [],
   "source": [
    "str(summarized_text)"
   ]
  },
  {
   "cell_type": "code",
   "execution_count": null,
   "id": "50f81548",
   "metadata": {},
   "outputs": [],
   "source": []
  },
  {
   "cell_type": "code",
   "execution_count": null,
   "id": "a0c722f0",
   "metadata": {},
   "outputs": [],
   "source": []
  },
  {
   "cell_type": "code",
   "execution_count": null,
   "id": "062bca79",
   "metadata": {},
   "outputs": [],
   "source": []
  },
  {
   "cell_type": "code",
   "execution_count": null,
   "id": "85247bb5",
   "metadata": {},
   "outputs": [],
   "source": []
  }
 ],
 "metadata": {
  "kernelspec": {
   "display_name": "Python 3 (ipykernel)",
   "language": "python",
   "name": "python3"
  },
  "language_info": {
   "codemirror_mode": {
    "name": "ipython",
    "version": 3
   },
   "file_extension": ".py",
   "mimetype": "text/x-python",
   "name": "python",
   "nbconvert_exporter": "python",
   "pygments_lexer": "ipython3",
   "version": "3.9.5"
  }
 },
 "nbformat": 4,
 "nbformat_minor": 5
}
